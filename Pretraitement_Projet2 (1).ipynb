{
 "cells": [
  {
   "cell_type": "code",
   "execution_count": 2,
   "id": "63337934-0b17-4a0b-9929-7293cff7b712",
   "metadata": {},
   "outputs": [
    {
     "name": "stdout",
     "output_type": "stream",
     "text": [
      "              tweet_id              user_id      tweet_timestamp keyword  \\\n",
      "0  1221959892619218944             13752142  2020-01-27 16-55-15   wuhan   \n",
      "1  1221964363273125890             21761292  2020-01-27 17-13-01   wuhan   \n",
      "2  1221967793509347329            545145545  2020-01-27 17-26-39   wuhan   \n",
      "3  1221970757636354048  1031691314536935424  2020-01-27 17-38-26   wuhan   \n",
      "4  1221971173061353473             43748336  2020-01-27 17-40-05   wuhan   \n",
      "\n",
      "  country/region  valence_intensity  fear_intensity  anger_intensity  \\\n",
      "0         Canada              0.409           0.468            0.530   \n",
      "1         Canada              0.464           0.604            0.428   \n",
      "2         Canada              0.336           0.574            0.545   \n",
      "3         Canada              0.501           0.473            0.366   \n",
      "4         Canada              0.394           0.633            0.470   \n",
      "\n",
      "   happiness_intensity  sadness_intensity         sentiment  \\\n",
      "0                0.255              0.462          negative   \n",
      "1                0.310              0.448          negative   \n",
      "2                0.186              0.473          negative   \n",
      "3                0.294              0.367  neutral or mixed   \n",
      "4                0.326              0.470          negative   \n",
      "\n",
      "               emotion  \n",
      "0                anger  \n",
      "1                 fear  \n",
      "2                 fear  \n",
      "3  no specific emotion  \n",
      "4                 fear  \n"
     ]
    }
   ],
   "source": [
    "import pandas as pd\n",
    "\n",
    "\n",
    "# Charger le fichier CSV\n",
    "chunksize = 10**6  # Charger par morceaux pour éviter de saturer la mémoire\n",
    "filtered_data = []\n",
    "\n",
    "# Parcourir le fichier en morceaux et filtrer par 'Canada' dans chaque morceau\n",
    "for chunk in pd.read_csv(\"COVID19_twitter_full_dataset.csv\", chunksize=chunksize):\n",
    "    filtered_chunk = chunk[chunk['country/region'] == 'Canada']  # Filtrer les lignes où 'country/region' est \"Canada\"\n",
    "    filtered_data.append(filtered_chunk)  # Ajouter le morceau filtré à la liste\n",
    "\n",
    "# Combiner tous les morceaux filtrés en un seul DataFrame\n",
    "canada_data = pd.concat(filtered_data, ignore_index=True)\n",
    "\n",
    "# Afficher les premières lignes pour vérifier\n",
    "print(canada_data.head())"
   ]
  },
  {
   "cell_type": "code",
   "execution_count": 3,
   "id": "8396f819-cf2b-4ca2-b7df-10baaecefb8f",
   "metadata": {},
   "outputs": [
    {
     "name": "stdout",
     "output_type": "stream",
     "text": [
      "                    tweet_id              user_id      tweet_timestamp  \\\n",
      "0        1221959892619218944             13752142  2020-01-27 16-55-15   \n",
      "1        1221964363273125890             21761292  2020-01-27 17-13-01   \n",
      "2        1221967793509347329            545145545  2020-01-27 17-26-39   \n",
      "3        1221970757636354048  1031691314536935424  2020-01-27 17-38-26   \n",
      "4        1221971173061353473             43748336  2020-01-27 17-40-05   \n",
      "...                      ...                  ...                  ...   \n",
      "6780536  1433218019673747458           3196426360  2021-09-01 16-59-38   \n",
      "6780537  1433218041102446593            156406253  2021-09-01 16-59-43   \n",
      "6780538  1433218043719659521  1237314642583658496  2021-09-01 16-59-44   \n",
      "6780539  1433218072668786688           2278652731  2021-09-01 16-59-51   \n",
      "6780540  1433218100791500804           2671066514  2021-09-01 16-59-57   \n",
      "\n",
      "        keyword country/region  valence_intensity  fear_intensity  \\\n",
      "0         wuhan         Canada              0.409           0.468   \n",
      "1         wuhan         Canada              0.464           0.604   \n",
      "2         wuhan         Canada              0.336           0.574   \n",
      "3         wuhan         Canada              0.501           0.473   \n",
      "4         wuhan         Canada              0.394           0.633   \n",
      "...         ...            ...                ...             ...   \n",
      "6780536   covid         Canada              0.529           0.474   \n",
      "6780537   covid         Canada              0.388           0.430   \n",
      "6780538   covid         Canada              0.329           0.581   \n",
      "6780539   covid         Canada              0.283           0.595   \n",
      "6780540   covid         Canada              0.493           0.438   \n",
      "\n",
      "         anger_intensity  happiness_intensity  sadness_intensity  \\\n",
      "0                  0.530                0.255              0.462   \n",
      "1                  0.428                0.310              0.448   \n",
      "2                  0.545                0.186              0.473   \n",
      "3                  0.366                0.294              0.367   \n",
      "4                  0.470                0.326              0.470   \n",
      "...                  ...                  ...                ...   \n",
      "6780536            0.333                0.362              0.346   \n",
      "6780537            0.557                0.218              0.427   \n",
      "6780538            0.483                0.230              0.511   \n",
      "6780539            0.606                0.125              0.554   \n",
      "6780540            0.375                0.320              0.359   \n",
      "\n",
      "                sentiment              emotion  \n",
      "0                negative                anger  \n",
      "1                negative                 fear  \n",
      "2                negative                 fear  \n",
      "3        neutral or mixed  no specific emotion  \n",
      "4                negative                 fear  \n",
      "...                   ...                  ...  \n",
      "6780536          positive            happiness  \n",
      "6780537          negative                anger  \n",
      "6780538          negative                 fear  \n",
      "6780539     very negative                anger  \n",
      "6780540  neutral or mixed  no specific emotion  \n",
      "\n",
      "[6780541 rows x 12 columns]\n"
     ]
    }
   ],
   "source": [
    "print(canada_data)"
   ]
  },
  {
   "cell_type": "code",
   "execution_count": 4,
   "id": "dee716bc-d49f-44fb-a1dd-db8a5c6fcd49",
   "metadata": {},
   "outputs": [],
   "source": [
    "# Sauvegarder les données filtrées dans un nouveau fichier CSV\n",
    "canada_data.to_csv(\"canada_data.csv\", index=False)\n"
   ]
  },
  {
   "cell_type": "code",
   "execution_count": null,
   "id": "d02e1f15-2617-465f-bbd5-d4b02b6b5a8b",
   "metadata": {},
   "outputs": [],
   "source": []
  }
 ],
 "metadata": {
  "kernelspec": {
   "display_name": "Python 3 (ipykernel)",
   "language": "python",
   "name": "python3"
  },
  "language_info": {
   "codemirror_mode": {
    "name": "ipython",
    "version": 3
   },
   "file_extension": ".py",
   "mimetype": "text/x-python",
   "name": "python",
   "nbconvert_exporter": "python",
   "pygments_lexer": "ipython3",
   "version": "3.13.0"
  }
 },
 "nbformat": 4,
 "nbformat_minor": 5
}
