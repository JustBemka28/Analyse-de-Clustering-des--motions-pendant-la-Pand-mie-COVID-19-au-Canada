{
 "cells": [
  {
   "cell_type": "code",
   "execution_count": null,
   "metadata": {
    "id": "kUG-IB5bo7qt"
   },
   "outputs": [],
   "source": [
    "import pandas as pd\n",
    "import numpy as np\n",
    "import matplotlib.pyplot as plt\n",
    "import scipy.cluster.hierarchy as sch\n",
    "from sklearn.cluster import AgglomerativeClustering\n",
    "from sklearn.metrics import silhouette_score\n",
    "\n",
    "# Charger le jeu de données\n",
    "canada_data = pd.read_csv('/content/canada_data.csv')\n",
    "\n",
    "# Sélectionner les variables cibles\n",
    "features = canada_data[['valence_intensity', 'fear_intensity', 'anger_intensity', 'happiness_intensity', 'sadness_intensity']]\n",
    "\n",
    "# Effectuer le clustering hiérarchique en utilisant différentes méthodes de liaison et tracer les dendrogrammes\n",
    "linkage_methods = ['ward', 'complete', 'average', 'single']\n"
   ]
  },
  {
   "cell_type": "code",
   "execution_count": null,
   "metadata": {
    "colab": {
     "base_uri": "https://localhost:8080/"
    },
    "id": "mlvJcZQHqiUL",
    "outputId": "d91fe082-1bf8-451b-d32a-9d7ee7fee14d"
   },
   "outputs": [
    {
     "name": "stdout",
     "output_type": "stream",
     "text": [
      "Le jeu de données contient 6046252 lignes et 5 colonnes.\n"
     ]
    }
   ],
   "source": [
    "# Voir la taille du jeu de données\n",
    "print(f\"Le jeu de données contient {features.shape[0]} lignes et {features.shape[1]} colonnes.\")\n"
   ]
  },
  {
   "cell_type": "code",
   "execution_count": null,
   "metadata": {
    "id": "CWsfRNB2q-YD"
   },
   "outputs": [],
   "source": [
    "features = features.sample(n=10000, random_state=42)\n"
   ]
  },
  {
   "cell_type": "code",
   "execution_count": null,
   "metadata": {
    "colab": {
     "base_uri": "https://localhost:8080/"
    },
    "id": "iaEhuxxorDb1",
    "outputId": "f4e5541c-7c4b-453e-abf0-60c29d7cb466"
   },
   "outputs": [
    {
     "name": "stdout",
     "output_type": "stream",
     "text": [
      "Le jeu de données contient 10000 lignes et 5 colonnes.\n"
     ]
    }
   ],
   "source": [
    "# Voir la taille du jeu de données\n",
    "print(f\"Le jeu de données contient {features.shape[0]} lignes et {features.shape[1]} colonnes.\")\n"
   ]
  },
  {
   "cell_type": "code",
   "execution_count": 9,
   "metadata": {
    "id": "y8zFrnpqycJO"
   },
   "outputs": [],
   "source": [
    "# Supprimer les lignes avec des valeurs manquantes\n",
    "features = features.dropna()\n",
    "\n",
    "# Vérifier les colonnes constantes (valeurs uniques)\n",
    "constant_columns = [col for col in features.columns if features[col].nunique() <= 1]\n",
    "if constant_columns:\n",
    "    print(f\"Colonnes constantes détectées : {constant_columns}\")\n",
    "    features = features.drop(columns=constant_columns)\n"
   ]
  },
  {
   "cell_type": "markdown",
   "metadata": {
    "id": "dLJ-VyFR6-xC"
   },
   "source": [
    "# Question 5"
   ]
  },
  {
   "cell_type": "code",
   "execution_count": 15,
   "metadata": {
    "colab": {
     "base_uri": "https://localhost:8080/"
    },
    "id": "r9H4c1Qb7Coq",
    "outputId": "8faeb082-000a-4520-dbf2-65caeb579390"
   },
   "outputs": [
    {
     "name": "stdout",
     "output_type": "stream",
     "text": [
      "0   -1.0\n",
      "1   -1.0\n",
      "2   -1.0\n",
      "3    0.0\n",
      "4   -1.0\n",
      "Name: sentiment, dtype: float64\n"
     ]
    }
   ],
   "source": [
    "# Convertir les labels textuels en valeurs numériques\n",
    "sentiment_mapping = {\n",
    "    'very negative': -1,\n",
    "    'negative': -1,\n",
    "    'neutral or mixed': 0,\n",
    "    'positive': 1,\n",
    "    'very positive': 1\n",
    "}\n",
    "\n",
    "# Appliquer la conversion\n",
    "true_labels = canada_data['sentiment'].map(sentiment_mapping)\n",
    "\n",
    "# Afficher les labels convertis\n",
    "print(true_labels.head())\n"
   ]
  },
  {
   "cell_type": "code",
   "execution_count": 19,
   "metadata": {
    "id": "fgbNmMTG7Yov"
   },
   "outputs": [],
   "source": [
    "import pandas as pd\n",
    "import numpy as np\n",
    "import matplotlib.pyplot as plt\n",
    "import scipy.cluster.hierarchy as sch\n",
    "from sklearn.cluster import AgglomerativeClustering\n",
    "from sklearn.metrics import precision_recall_fscore_support\n",
    "\n",
    "\n",
    "\n",
    "canada_data = canada_data.sample(n=10000, random_state=42)\n",
    "\n",
    "\n",
    "# Effectuer le clustering hiérarchique en fixant le nombre de clusters à 3\n",
    "clustering = AgglomerativeClustering(n_clusters=3, linkage='ward')\n",
    "cluster_labels = clustering.fit_predict(features)\n",
    "\n",
    "# Assuming 'features' DataFrame has an index corresponding to 'canada_data'\n",
    "# Create a new DataFrame with the cluster labels and the index from 'features'\n",
    "cluster_df = pd.DataFrame({'cluster': cluster_labels}, index=features.index)\n",
    "\n",
    "\n",
    "\n",
    "\n",
    "# Merge the cluster labels into the original 'canada_data' DataFrame\n",
    "# Changed 'how' to 'left' to keep all rows from canada_data\n",
    "canada_data = pd.merge(canada_data, cluster_df, left_index=True, right_index=True, how='left')\n",
    "\n"
   ]
  },
  {
   "cell_type": "code",
   "execution_count": 20,
   "metadata": {
    "colab": {
     "base_uri": "https://localhost:8080/"
    },
    "id": "tfBzbOWS8pEe",
    "outputId": "fd06562f-6685-408a-ee43-656e77fe5687"
   },
   "outputs": [
    {
     "name": "stdout",
     "output_type": "stream",
     "text": [
      "Precision: 0.0481728154353897\n",
      "Recall: 0.1303\n",
      "F1 Score: 0.07019500268221075\n",
      "Les clusters retrouvés ne correspondent pas bien aux internautes présentant des sentiments négatifs, neutres ou positifs.\n"
     ]
    },
    {
     "name": "stderr",
     "output_type": "stream",
     "text": [
      "/usr/local/lib/python3.10/dist-packages/sklearn/metrics/_classification.py:1531: UndefinedMetricWarning: Precision is ill-defined and being set to 0.0 in labels with no predicted samples. Use `zero_division` parameter to control this behavior.\n",
      "  _warn_prf(average, modifier, f\"{metric.capitalize()} is\", len(result))\n",
      "/usr/local/lib/python3.10/dist-packages/sklearn/metrics/_classification.py:1531: UndefinedMetricWarning: Recall is ill-defined and being set to 0.0 in labels with no true samples. Use `zero_division` parameter to control this behavior.\n",
      "  _warn_prf(average, modifier, f\"{metric.capitalize()} is\", len(result))\n"
     ]
    }
   ],
   "source": [
    "# Now you can evaluate the clusters:\n",
    "# Assuming 'sentiment' contains -1, 0, 1 for negative, neutral, and positive sentiments\n",
    "# Access sentiment mapping using sentiment_mapping dictionary\n",
    "true_labels = canada_data['sentiment'].map(sentiment_mapping)\n",
    "\n",
    "precision, recall, f1_score, _ = precision_recall_fscore_support(true_labels, canada_data['cluster'], average='weighted')\n",
    "\n",
    "print(f'Precision: {precision}')\n",
    "print(f'Recall: {recall}')\n",
    "print(f'F1 Score: {f1_score}')\n",
    "\n",
    "# Conclusion on the results\n",
    "if f1_score > 0.7:\n",
    "    print(\"Les clusters retrouvés correspondent bien aux internautes présentant des sentiments négatifs, neutres ou positifs.\")\n",
    "else:\n",
    "    print(\"Les clusters retrouvés ne correspondent pas bien aux internautes présentant des sentiments négatifs, neutres ou positifs.\")"
   ]
  }
 ],
 "metadata": {
  "colab": {
   "provenance": []
  },
  "kernelspec": {
   "display_name": "Python 3",
   "name": "python3"
  },
  "language_info": {
   "name": "python"
  }
 },
 "nbformat": 4,
 "nbformat_minor": 0
}
